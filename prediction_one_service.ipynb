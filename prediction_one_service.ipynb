{
  "nbformat": 4,
  "nbformat_minor": 0,
  "metadata": {
    "colab": {
      "name": "prediction_one_service.ipynb",
      "provenance": [],
      "authorship_tag": "ABX9TyOvdSRJLKr/d2Skwa63uZ2r",
      "include_colab_link": true
    },
    "kernelspec": {
      "name": "python3",
      "display_name": "Python 3"
    },
    "language_info": {
      "name": "python"
    }
  },
  "cells": [
    {
      "cell_type": "markdown",
      "metadata": {
        "id": "view-in-github",
        "colab_type": "text"
      },
      "source": [
        "<a href=\"https://colab.research.google.com/github/searchs/analytics/blob/master/prediction_one_service.ipynb\" target=\"_parent\"><img src=\"https://colab.research.google.com/assets/colab-badge.svg\" alt=\"Open In Colab\"/></a>"
      ]
    },
    {
      "cell_type": "code",
      "metadata": {
        "id": "8cr9RjyOk_vm"
      },
      "source": [
        "import socket \n",
        "hostname = socket.gethostname()"
      ],
      "execution_count": null,
      "outputs": []
    },
    {
      "cell_type": "code",
      "metadata": {
        "colab": {
          "base_uri": "https://localhost:8080/"
        },
        "id": "VcqHSvxblKNq",
        "outputId": "44d4ff7f-9f7d-4ab7-bfbf-4f4553a110fd"
      },
      "source": [
        "print(hostname)"
      ],
      "execution_count": null,
      "outputs": [
        {
          "output_type": "stream",
          "text": [
            "9e21871c6c50\n"
          ],
          "name": "stdout"
        }
      ]
    },
    {
      "cell_type": "code",
      "metadata": {
        "colab": {
          "base_uri": "https://localhost:8080/",
          "height": 35
        },
        "id": "_rJSMqa9lMJM",
        "outputId": "eb96eb46-e350-41bd-cb40-5dd76053e6b2"
      },
      "source": [
        "ip_add = socket.gethostbyname(hostname)\n",
        "ip_add"
      ],
      "execution_count": null,
      "outputs": [
        {
          "output_type": "execute_result",
          "data": {
            "application/vnd.google.colaboratory.intrinsic+json": {
              "type": "string"
            },
            "text/plain": [
              "'172.28.0.2'"
            ]
          },
          "metadata": {
            "tags": []
          },
          "execution_count": 3
        }
      ]
    },
    {
      "cell_type": "code",
      "metadata": {
        "id": "e5zb8OlPlWOI"
      },
      "source": [
        "from flask import Flask\n",
        "app = Flask(__name__)"
      ],
      "execution_count": null,
      "outputs": []
    },
    {
      "cell_type": "code",
      "metadata": {
        "id": "39y7Q_hJldVv"
      },
      "source": [
        "@app.route('/')\n",
        "def allo():\n",
        "  return \"Allo Ola!\""
      ],
      "execution_count": null,
      "outputs": []
    },
    {
      "cell_type": "code",
      "metadata": {
        "id": "1QBnBxFMlkQA"
      },
      "source": [
        "import  threading"
      ],
      "execution_count": null,
      "outputs": []
    },
    {
      "cell_type": "code",
      "metadata": {
        "id": "pDSnbvO8l0PB"
      },
      "source": [
        "# target=app.run()\n",
        "flask_thread = threading.Thread(target=app.run, kwargs={'host': '0.0.0.0', 'port': 80})"
      ],
      "execution_count": null,
      "outputs": []
    },
    {
      "cell_type": "code",
      "metadata": {
        "colab": {
          "base_uri": "https://localhost:8080/"
        },
        "id": "4M9JuvEKmPLq",
        "outputId": "8049738f-14d7-4516-f6f8-aa1203804804"
      },
      "source": [
        "flask_thread.start()"
      ],
      "execution_count": null,
      "outputs": [
        {
          "output_type": "stream",
          "text": [
            " * Serving Flask app \"__main__\" (lazy loading)\n",
            " * Environment: production\n"
          ],
          "name": "stdout"
        }
      ]
    },
    {
      "cell_type": "code",
      "metadata": {
        "colab": {
          "base_uri": "https://localhost:8080/"
        },
        "id": "cLYGyEHymRFS",
        "outputId": "3f47bfce-e89b-47c1-ddcb-ee1175e249ef"
      },
      "source": [
        "import requests\n",
        "r = requests.get(\"http://172.28.0.2\")"
      ],
      "execution_count": null,
      "outputs": [
        {
          "output_type": "stream",
          "text": [
            "\u001b[31m   WARNING: This is a development server. Do not use it in a production deployment.\u001b[0m\n",
            "\u001b[2m   Use a production WSGI server instead.\u001b[0m\n",
            " * Debug mode: off\n"
          ],
          "name": "stdout"
        },
        {
          "output_type": "stream",
          "text": [
            " * Running on http://0.0.0.0:80/ (Press CTRL+C to quit)\n",
            "172.28.0.2 - - [22/Jun/2021 07:06:58] \"\u001b[37mGET / HTTP/1.1\u001b[0m\" 200 -\n"
          ],
          "name": "stderr"
        }
      ]
    },
    {
      "cell_type": "code",
      "metadata": {
        "colab": {
          "base_uri": "https://localhost:8080/"
        },
        "id": "_eBI_7OjmkVi",
        "outputId": "cefecf43-7768-4f89-905e-fa54dd255472"
      },
      "source": [
        "r.content"
      ],
      "execution_count": null,
      "outputs": [
        {
          "output_type": "execute_result",
          "data": {
            "text/plain": [
              "b'Allo Ola!'"
            ]
          },
          "metadata": {
            "tags": []
          },
          "execution_count": 10
        }
      ]
    },
    {
      "cell_type": "code",
      "metadata": {
        "colab": {
          "base_uri": "https://localhost:8080/",
          "height": 35
        },
        "id": "Ji2DwZmImn0M",
        "outputId": "226e1e8a-595e-4c94-9f86-6a816df11d2c"
      },
      "source": [
        "r.text"
      ],
      "execution_count": null,
      "outputs": [
        {
          "output_type": "execute_result",
          "data": {
            "application/vnd.google.colaboratory.intrinsic+json": {
              "type": "string"
            },
            "text/plain": [
              "'Allo Ola!'"
            ]
          },
          "metadata": {
            "tags": []
          },
          "execution_count": 11
        }
      ]
    },
    {
      "cell_type": "code",
      "metadata": {
        "colab": {
          "base_uri": "https://localhost:8080/"
        },
        "id": "QbiroYIEmvNa",
        "outputId": "ca11607b-14ac-4e41-86ad-ab60e570f6cf"
      },
      "source": [
        "r = requests.post('http://172.28.0.2')"
      ],
      "execution_count": null,
      "outputs": [
        {
          "output_type": "stream",
          "text": [
            "172.28.0.2 - - [22/Jun/2021 07:06:58] \"\u001b[31m\u001b[1mPOST / HTTP/1.1\u001b[0m\" 405 -\n"
          ],
          "name": "stderr"
        }
      ]
    },
    {
      "cell_type": "code",
      "metadata": {
        "id": "YCGF_3_VnvX0"
      },
      "source": [
        "@app.route('/foo', methods=['GET','POST'])\n",
        "def foo():\n",
        "  return \"Allo Foo!\""
      ],
      "execution_count": null,
      "outputs": []
    },
    {
      "cell_type": "code",
      "metadata": {
        "id": "auTUiBWCn_E6"
      },
      "source": [
        "url = 'http://172.28.0.2/'"
      ],
      "execution_count": null,
      "outputs": []
    },
    {
      "cell_type": "code",
      "metadata": {
        "colab": {
          "base_uri": "https://localhost:8080/",
          "height": 53
        },
        "id": "7NtMHlZ7oLHL",
        "outputId": "a9099439-c449-4d47-e153-8930990ae753"
      },
      "source": [
        "r_get = requests.get(url + 'foo')\n",
        "r_get.text"
      ],
      "execution_count": null,
      "outputs": [
        {
          "output_type": "stream",
          "text": [
            "172.28.0.2 - - [22/Jun/2021 07:06:58] \"\u001b[37mGET /foo HTTP/1.1\u001b[0m\" 200 -\n"
          ],
          "name": "stderr"
        },
        {
          "output_type": "execute_result",
          "data": {
            "application/vnd.google.colaboratory.intrinsic+json": {
              "type": "string"
            },
            "text/plain": [
              "'Allo Foo!'"
            ]
          },
          "metadata": {
            "tags": []
          },
          "execution_count": 15
        }
      ]
    },
    {
      "cell_type": "code",
      "metadata": {
        "colab": {
          "base_uri": "https://localhost:8080/",
          "height": 53
        },
        "id": "MMyc6cikoW3s",
        "outputId": "c26f3646-20cc-48e0-f175-e6ea9f0dfecf"
      },
      "source": [
        "r_post = requests.get(url + 'foo')\n",
        "r_post.text"
      ],
      "execution_count": null,
      "outputs": [
        {
          "output_type": "stream",
          "text": [
            "172.28.0.2 - - [22/Jun/2021 07:06:58] \"\u001b[37mGET /foo HTTP/1.1\u001b[0m\" 200 -\n"
          ],
          "name": "stderr"
        },
        {
          "output_type": "execute_result",
          "data": {
            "application/vnd.google.colaboratory.intrinsic+json": {
              "type": "string"
            },
            "text/plain": [
              "'Allo Foo!'"
            ]
          },
          "metadata": {
            "tags": []
          },
          "execution_count": 16
        }
      ]
    },
    {
      "cell_type": "code",
      "metadata": {
        "id": "rH6M8iIRppab"
      },
      "source": [
        "from flask import jsonify, request\n",
        "import json\n",
        "\n",
        "@app.route('/display', methods=['POST'])\n",
        "def print_item():\n",
        "  data = request.get_json()\n",
        "  return jsonify(data)"
      ],
      "execution_count": null,
      "outputs": []
    },
    {
      "cell_type": "code",
      "metadata": {
        "id": "aleU4a8eqIAZ"
      },
      "source": [
        "data = ['Australia', 'France', 'China']"
      ],
      "execution_count": null,
      "outputs": []
    },
    {
      "cell_type": "code",
      "metadata": {
        "id": "liVTZJVnqPIk"
      },
      "source": [
        "j_data = json.dumps(data)"
      ],
      "execution_count": null,
      "outputs": []
    },
    {
      "cell_type": "code",
      "metadata": {
        "colab": {
          "base_uri": "https://localhost:8080/",
          "height": 35
        },
        "id": "gNKbi0VGqTEQ",
        "outputId": "c2d6c9b6-171b-4a13-d0d4-398787de116c"
      },
      "source": [
        "j_data"
      ],
      "execution_count": null,
      "outputs": [
        {
          "output_type": "execute_result",
          "data": {
            "application/vnd.google.colaboratory.intrinsic+json": {
              "type": "string"
            },
            "text/plain": [
              "'[\"Australia\", \"France\", \"China\"]'"
            ]
          },
          "metadata": {
            "tags": []
          },
          "execution_count": 20
        }
      ]
    },
    {
      "cell_type": "code",
      "metadata": {
        "id": "EPh-bbczqUr-"
      },
      "source": [
        "headers = {'content-type': 'application/json', 'Accept-Charset': 'UTF-8'}"
      ],
      "execution_count": null,
      "outputs": []
    },
    {
      "cell_type": "code",
      "metadata": {
        "colab": {
          "base_uri": "https://localhost:8080/"
        },
        "id": "zk-NAqhTtFXj",
        "outputId": "3c5b94e0-4b53-4752-9f3f-637c98cb475a"
      },
      "source": [
        "r = requests.post(url + 'display',data=j_data, headers=headers)"
      ],
      "execution_count": null,
      "outputs": [
        {
          "output_type": "stream",
          "text": [
            "172.28.0.2 - - [22/Jun/2021 07:06:58] \"\u001b[37mPOST /display HTTP/1.1\u001b[0m\" 200 -\n"
          ],
          "name": "stderr"
        }
      ]
    },
    {
      "cell_type": "code",
      "metadata": {
        "colab": {
          "base_uri": "https://localhost:8080/",
          "height": 35
        },
        "id": "S5yEgeZwtV-5",
        "outputId": "2ba7bf67-9642-4188-8276-966f213fc443"
      },
      "source": [
        "r.text"
      ],
      "execution_count": null,
      "outputs": [
        {
          "output_type": "execute_result",
          "data": {
            "application/vnd.google.colaboratory.intrinsic+json": {
              "type": "string"
            },
            "text/plain": [
              "'[\"Australia\",\"France\",\"China\"]\\n'"
            ]
          },
          "metadata": {
            "tags": []
          },
          "execution_count": 23
        }
      ]
    },
    {
      "cell_type": "code",
      "metadata": {
        "id": "ap7SCfdEtXvx"
      },
      "source": [
        "@app.route('/empty', methods=['POST'])\n",
        "def check_empty():\n",
        "  data = request.get_json()\n",
        "  return jsonify(not data)"
      ],
      "execution_count": null,
      "outputs": []
    },
    {
      "cell_type": "code",
      "metadata": {
        "id": "i00mpYcquKX0"
      },
      "source": [
        "empty_json = json.dumps([])"
      ],
      "execution_count": null,
      "outputs": []
    },
    {
      "cell_type": "code",
      "metadata": {
        "colab": {
          "base_uri": "https://localhost:8080/"
        },
        "id": "zQZSUzZUuPFG",
        "outputId": "d68834ad-6686-4623-c302-3775edfadc6a"
      },
      "source": [
        "r_empty = requests.post(url +'/empty', data=empty_json, headers=headers)"
      ],
      "execution_count": null,
      "outputs": [
        {
          "output_type": "stream",
          "text": [
            "172.28.0.2 - - [22/Jun/2021 07:06:58] \"\u001b[37mPOST //empty HTTP/1.1\u001b[0m\" 200 -\n"
          ],
          "name": "stderr"
        }
      ]
    },
    {
      "cell_type": "code",
      "metadata": {
        "colab": {
          "base_uri": "https://localhost:8080/",
          "height": 35
        },
        "id": "FXJRkR2Nujs4",
        "outputId": "c91a99d0-0dce-490c-e298-f3846d0c37c4"
      },
      "source": [
        "r_empty.text"
      ],
      "execution_count": null,
      "outputs": [
        {
          "output_type": "execute_result",
          "data": {
            "application/vnd.google.colaboratory.intrinsic+json": {
              "type": "string"
            },
            "text/plain": [
              "'true\\n'"
            ]
          },
          "metadata": {
            "tags": []
          },
          "execution_count": 27
        }
      ]
    },
    {
      "cell_type": "code",
      "metadata": {
        "id": "Dp7142blulCV"
      },
      "source": [
        "not_empty_json = json.dumps(['Data Science', 'is', \\\n",
        "                             'so', 'cool', '!'])"
      ],
      "execution_count": null,
      "outputs": []
    },
    {
      "cell_type": "code",
      "metadata": {
        "colab": {
          "base_uri": "https://localhost:8080/",
          "height": 53
        },
        "id": "ZdmK_eaeuqAg",
        "outputId": "e6495561-f745-4c55-dc65-d2786a260c42"
      },
      "source": [
        "r_not_empty = requests.post(url + '/empty', \\\n",
        "                            data=not_empty_json, headers=headers)\n",
        "r_not_empty.text"
      ],
      "execution_count": null,
      "outputs": [
        {
          "output_type": "stream",
          "text": [
            "172.28.0.2 - - [22/Jun/2021 07:06:58] \"\u001b[37mPOST //empty HTTP/1.1\u001b[0m\" 200 -\n"
          ],
          "name": "stderr"
        },
        {
          "output_type": "execute_result",
          "data": {
            "application/vnd.google.colaboratory.intrinsic+json": {
              "type": "string"
            },
            "text/plain": [
              "'false\\n'"
            ]
          },
          "metadata": {
            "tags": []
          },
          "execution_count": 29
        }
      ]
    },
    {
      "cell_type": "code",
      "metadata": {
        "id": "f3A8ybNruthL"
      },
      "source": [
        "# Create a Model \n",
        "import pandas as pd\n",
        "from sklearn.ensemble import RandomForestClassifier\n",
        "from sklearn.model_selection import train_test_split"
      ],
      "execution_count": null,
      "outputs": []
    },
    {
      "cell_type": "code",
      "metadata": {
        "id": "qxpThOVMy37b"
      },
      "source": [
        "file_url = 'https://raw.githubusercontent.com/PacktWorkshops/'\\\n",
        "           'The-Data-Science-Workshop/master/'\\\n",
        "           'Chapter03/bank-full.csv'\n",
        "df = pd.read_csv(file_url, sep=';')"
      ],
      "execution_count": null,
      "outputs": []
    },
    {
      "cell_type": "code",
      "metadata": {
        "id": "nByzx0uJy79z"
      },
      "source": [
        "# Extract response \n",
        "y = df.pop('y')"
      ],
      "execution_count": null,
      "outputs": []
    },
    {
      "cell_type": "code",
      "metadata": {
        "id": "-JtiadryzHnM"
      },
      "source": [
        "df_dummies = pd.get_dummies(df)"
      ],
      "execution_count": null,
      "outputs": []
    },
    {
      "cell_type": "code",
      "metadata": {
        "id": "OSefKOpmzIzF"
      },
      "source": [
        "X_train, X_test, y_train, y_test = train_test_split(df_dummies, y, test_size=0.33, random_state=42)"
      ],
      "execution_count": null,
      "outputs": []
    },
    {
      "cell_type": "code",
      "metadata": {
        "colab": {
          "base_uri": "https://localhost:8080/"
        },
        "id": "S8w-V54xzp50",
        "outputId": "358d8357-5da5-4d95-dc5c-b867e2286d2d"
      },
      "source": [
        "rf_model = RandomForestClassifier(random_state=8)\n",
        "rf_model.fit(X_train,y_train)"
      ],
      "execution_count": null,
      "outputs": [
        {
          "output_type": "execute_result",
          "data": {
            "text/plain": [
              "RandomForestClassifier(bootstrap=True, ccp_alpha=0.0, class_weight=None,\n",
              "                       criterion='gini', max_depth=None, max_features='auto',\n",
              "                       max_leaf_nodes=None, max_samples=None,\n",
              "                       min_impurity_decrease=0.0, min_impurity_split=None,\n",
              "                       min_samples_leaf=1, min_samples_split=2,\n",
              "                       min_weight_fraction_leaf=0.0, n_estimators=100,\n",
              "                       n_jobs=None, oob_score=False, random_state=8, verbose=0,\n",
              "                       warm_start=False)"
            ]
          },
          "metadata": {
            "tags": []
          },
          "execution_count": 35
        }
      ]
    },
    {
      "cell_type": "code",
      "metadata": {
        "colab": {
          "base_uri": "https://localhost:8080/"
        },
        "id": "v8PVJsU1z628",
        "outputId": "a6099076-b358-4bd3-c691-502e6627cb1b"
      },
      "source": [
        "rf_model.predict(X_test)"
      ],
      "execution_count": null,
      "outputs": [
        {
          "output_type": "execute_result",
          "data": {
            "text/plain": [
              "array(['no', 'no', 'no', ..., 'no', 'no', 'yes'], dtype=object)"
            ]
          },
          "metadata": {
            "tags": []
          },
          "execution_count": 36
        }
      ]
    },
    {
      "cell_type": "code",
      "metadata": {
        "colab": {
          "base_uri": "https://localhost:8080/"
        },
        "id": "yxjp30GH0Esx",
        "outputId": "08f5d1c1-8774-4673-9f84-3ab417682ed5"
      },
      "source": [
        "rf_model.predict([X_test.iloc[3776,]])"
      ],
      "execution_count": null,
      "outputs": [
        {
          "output_type": "execute_result",
          "data": {
            "text/plain": [
              "array(['no'], dtype=object)"
            ]
          },
          "metadata": {
            "tags": []
          },
          "execution_count": 37
        }
      ]
    },
    {
      "cell_type": "code",
      "metadata": {
        "colab": {
          "base_uri": "https://localhost:8080/"
        },
        "id": "PG8Ws5-70NFn",
        "outputId": "26338c35-19f2-4054-b9c6-8a6e0d53b4b9"
      },
      "source": [
        "import joblib\n",
        "joblib.dump(rf_model, \"model.pkl\")"
      ],
      "execution_count": null,
      "outputs": [
        {
          "output_type": "execute_result",
          "data": {
            "text/plain": [
              "['model.pkl']"
            ]
          },
          "metadata": {
            "tags": []
          },
          "execution_count": 38
        }
      ]
    },
    {
      "cell_type": "code",
      "metadata": {
        "id": "GoYNbYJT-Zhd"
      },
      "source": [
        "saved_model = joblib.load(\"model.pkl\")"
      ],
      "execution_count": null,
      "outputs": []
    },
    {
      "cell_type": "code",
      "metadata": {
        "colab": {
          "base_uri": "https://localhost:8080/"
        },
        "id": "xiL0uvu1-f2r",
        "outputId": "af655756-e445-48ee-f62b-579e4aa32e72"
      },
      "source": [
        "# Make prediction\n",
        "saved_model.predict([X_test.iloc[3776,]])"
      ],
      "execution_count": null,
      "outputs": [
        {
          "output_type": "execute_result",
          "data": {
            "text/plain": [
              "array(['no'], dtype=object)"
            ]
          },
          "metadata": {
            "tags": []
          },
          "execution_count": 40
        }
      ]
    },
    {
      "cell_type": "code",
      "metadata": {
        "id": "MuQJoXS9-s1D"
      },
      "source": [
        "import numpy as np\n",
        "\n",
        "@app.route('/predict', methods=['POST'])\n",
        "def rf_predict():\n",
        "  data = request.get_json()\n",
        "  prediction = saved_model.predict(data)\n",
        "  str_pred = np.array2string(prediction)\n",
        "  return jsonify(str_pred)"
      ],
      "execution_count": null,
      "outputs": []
    },
    {
      "cell_type": "code",
      "metadata": {
        "colab": {
          "base_uri": "https://localhost:8080/"
        },
        "id": "JM6irIY__hEv",
        "outputId": "7fcc491b-0d69-4ad5-c7e9-a5785e6cb069"
      },
      "source": [
        "\n",
        "record = X_test.iloc[3776,].to_list()\n",
        "record [:7]"
      ],
      "execution_count": null,
      "outputs": [
        {
          "output_type": "execute_result",
          "data": {
            "text/plain": [
              "[36, 229, 28, 258, 2, -1, 0]"
            ]
          },
          "metadata": {
            "tags": []
          },
          "execution_count": 42
        }
      ]
    },
    {
      "cell_type": "code",
      "metadata": {
        "id": "rAmCtpauAL4j"
      },
      "source": [
        ""
      ],
      "execution_count": null,
      "outputs": []
    },
    {
      "cell_type": "code",
      "metadata": {
        "id": "j1H0_4mL_n3p"
      },
      "source": [
        "j_data = json.dumps([record])"
      ],
      "execution_count": null,
      "outputs": []
    },
    {
      "cell_type": "code",
      "metadata": {
        "colab": {
          "base_uri": "https://localhost:8080/",
          "height": 53
        },
        "id": "nc1Fzg7y_8nA",
        "outputId": "3b614c48-c2e4-4c9b-fbc1-717b65f7e4af"
      },
      "source": [
        "r = requests.post(url +\"/predict\", data=j_data, headers=headers)\n",
        "r.text"
      ],
      "execution_count": null,
      "outputs": [
        {
          "output_type": "stream",
          "text": [
            "172.28.0.2 - - [22/Jun/2021 07:07:04] \"\u001b[37mPOST //predict HTTP/1.1\u001b[0m\" 200 -\n"
          ],
          "name": "stderr"
        },
        {
          "output_type": "execute_result",
          "data": {
            "application/vnd.google.colaboratory.intrinsic+json": {
              "type": "string"
            },
            "text/plain": [
              "'\"[\\'no\\']\"\\n'"
            ]
          },
          "metadata": {
            "tags": []
          },
          "execution_count": 44
        }
      ]
    },
    {
      "cell_type": "code",
      "metadata": {
        "id": "KuomsCRQAlOF"
      },
      "source": [
        "import os\n",
        "import sys\n",
        "import platform"
      ],
      "execution_count": null,
      "outputs": []
    },
    {
      "cell_type": "code",
      "metadata": {
        "colab": {
          "base_uri": "https://localhost:8080/"
        },
        "id": "HJsMF5Thy4dO",
        "outputId": "018d0e44-05e5-4362-e549-705d18a3e16c"
      },
      "source": [
        "print(platform.uname())"
      ],
      "execution_count": null,
      "outputs": [
        {
          "output_type": "stream",
          "text": [
            "uname_result(system='Linux', node='9e21871c6c50', release='5.4.104+', version='#1 SMP Sat Jun 5 09:50:34 PDT 2021', machine='x86_64', processor='x86_64')\n"
          ],
          "name": "stdout"
        }
      ]
    },
    {
      "cell_type": "code",
      "metadata": {
        "id": "gOp21nKjzlsE"
      },
      "source": [
        ""
      ],
      "execution_count": null,
      "outputs": []
    }
  ]
}